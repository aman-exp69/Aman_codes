{
 "cells": [
  {
   "cell_type": "code",
   "execution_count": 13,
   "id": "0e1ba8df",
   "metadata": {},
   "outputs": [],
   "source": [
    "import pandas as pd\n",
    "from datetime import datetime, timedelta"
   ]
  },
  {
   "cell_type": "markdown",
   "id": "a4ffd146",
   "metadata": {},
   "source": [
    "## Editable parameters"
   ]
  },
  {
   "cell_type": "code",
   "execution_count": 18,
   "id": "483c988b",
   "metadata": {},
   "outputs": [],
   "source": [
    "hedge_intervals = 5 # hedge interval in minutes\n",
    "weight = [0.5,0.5] # weights for the two assets\n",
    "stocks = [\"BAJAJ-AUTO\", \"BAJFINANCE\"] # Stock symbols\n",
    "start_date = \"20240101\""
   ]
  },
  {
   "cell_type": "markdown",
   "id": "117deb8a",
   "metadata": {},
   "source": [
    "## Load data"
   ]
  },
  {
   "cell_type": "code",
   "execution_count": 15,
   "id": "41c4e5f0",
   "metadata": {},
   "outputs": [],
   "source": [
    "# Function to read a CSV file for a given stock and date\n",
    "def read_csv_file(stock, date):\n",
    "    dt = datetime.strptime(date, \"%Y%m%d\")\n",
    "    year = dt.year\n",
    "    month = dt.month\n",
    "\n",
    "    def get_last_thursday(y, m):\n",
    "        if m == 12:\n",
    "            last_day = datetime(y + 1, 1, 1) - timedelta(days=1)\n",
    "        else:\n",
    "            last_day = datetime(y, m + 1, 1) - timedelta(days=1)\n",
    "        offset = (last_day.weekday() - 3) % 7  # Thursday is 3\n",
    "        return last_day - timedelta(days=offset)\n",
    "\n",
    "    last_thurs_current = get_last_thursday(year, month)\n",
    "\n",
    "    # If last Thursday of current month is before the input date,\n",
    "    # get last Thursday of next month\n",
    "    if last_thurs_current < dt:\n",
    "        # increment month/year for next month\n",
    "        if month == 12:\n",
    "            next_month = 1\n",
    "            next_year = year + 1\n",
    "        else:\n",
    "            next_month = month + 1\n",
    "            next_year = year\n",
    "        last_thurs = get_last_thursday(next_year, next_month)\n",
    "    else:\n",
    "        last_thurs = last_thurs_current\n",
    "\n",
    "    last_thurs_str = last_thurs.strftime(\"%Y%m%d\")\n",
    "\n",
    "    file_path = f\"{stock}/{year}/{year}_new/{stock}_{date}_{last_thurs_str}_Intraday_Preprocessed.csv\"\n",
    "\n",
    "    try:\n",
    "        return pd.read_csv(file_path)\n",
    "    except FileNotFoundError:\n",
    "        print(f\"File not found: {file_path}\")\n",
    "        return None"
   ]
  },
  {
   "cell_type": "code",
   "execution_count": 16,
   "id": "f599f951",
   "metadata": {},
   "outputs": [],
   "source": [
    "S_1 = read_csv_file(stocks[0], start_date)\n",
    "S_2 = read_csv_file(stocks[1], start_date)"
   ]
  },
  {
   "cell_type": "code",
   "execution_count": 9,
   "id": "36dd9ae9",
   "metadata": {},
   "outputs": [
    {
     "data": {
      "text/plain": [
       "Index(['Date Time', 'ExchToken', 'BidPrice', 'BidQty', 'AskPrice', 'AskQty',\n",
       "       'TTq', 'LTP', 'TotalTradedPrice', 'Instrument', 'ExpiryDate',\n",
       "       'ExpiryTime', 'Strike', 'Type', 'ExpiryDateTime', 'Spot',\n",
       "       'Time_to_expire', 'Delta', 'Theta', 'Gamma', 'Vega', 'Sigma',\n",
       "       'bid_ask_spread', 'mid_price', 'Intrinsic_value', 'bid_ask_move',\n",
       "       'price_problem', 'is_tradable', 'bid_plus', 'ask_minus'],\n",
       "      dtype='object')"
      ]
     },
     "execution_count": 9,
     "metadata": {},
     "output_type": "execute_result"
    }
   ],
   "source": [
    "S_1.columns"
   ]
  },
  {
   "cell_type": "code",
   "execution_count": null,
   "id": "8cd5b59e",
   "metadata": {},
   "outputs": [],
   "source": [
    "def get_delta_at_time(df, time, spot, strike):\n",
    "    # Get CE and PE rows at time and strike\n",
    "    ce_row = df[(df['Date Time'] == time) & (df['Type'] == 'CE') & (df['Strike'] == strike)]\n",
    "    pe_row = df[(df['Date Time'] == time) & (df['Type'] == 'PE') & (df['Strike'] == strike)]\n",
    "\n",
    "    if ce_row.empty or pe_row.empty:\n",
    "        return None\n",
    "\n",
    "    delta_ce = ce_row.iloc[0]['Delta']\n",
    "    delta_pe = pe_row.iloc[0]['Delta']\n",
    "    return delta_ce + delta_pe"
   ]
  },
  {
   "cell_type": "code",
   "execution_count": null,
   "id": "152b1919",
   "metadata": {},
   "outputs": [],
   "source": [
    "def simulate_delta_hedging(option_dfs, weights, interval_minutes=5):\n",
    "    timestamps = pd.date_range(\"2024-01-01 09:20\", \"2024-01-01 15:15\", freq=f'{interval_minutes}min')\n",
    "    \n",
    "    hedge_log = []\n",
    "\n",
    "    for t in timestamps:\n",
    "        deltas = []\n",
    "        hedge_per_stock = []\n",
    "\n",
    "        for i, df in enumerate(option_dfs):\n",
    "            weight = weights[i]\n",
    "            df_t = df[df['Date Time'] == t]\n",
    "\n",
    "            if df_t.empty:\n",
    "                deltas.append(0)\n",
    "                hedge_per_stock.append(0)\n",
    "                continue\n",
    "\n",
    "            spot = df_t['Spot'].iloc[0]\n",
    "            strikes = df_t['Strike'].unique()\n",
    "            atm_strike = min(strikes, key=lambda x: abs(x - spot))\n",
    "\n",
    "            d_j = get_delta_at_time(df, t, spot, atm_strike)\n",
    "            if d_j is None:\n",
    "                deltas.append(0)\n",
    "                hedge_per_stock.append(0)\n",
    "                continue\n",
    "\n",
    "            wj_dj = weight * d_j\n",
    "            deltas.append(wj_dj)\n",
    "            hedge_per_stock.append(-wj_dj * spot)  # Hedge with spot\n",
    "\n",
    "        total_delta = sum(deltas)\n",
    "        hedge_log.append({\n",
    "            'Time': t,\n",
    "            'Deltas': deltas,\n",
    "            'OD^t': total_delta,\n",
    "            'Spot Hedge Values': hedge_per_stock,\n",
    "            'Total Hedge (Spot)': sum(hedge_per_stock)\n",
    "        })\n",
    "\n",
    "    return pd.DataFrame(hedge_log)"
   ]
  },
  {
   "cell_type": "code",
   "execution_count": 20,
   "id": "b24d8c89",
   "metadata": {},
   "outputs": [],
   "source": [
    "S_1_straddles = get_atm_straddles_exact(S_1, \"09:20\", \"15:15\", 5)\n",
    "S_2_straddles = get_atm_straddles_exact(S_2, \"09:20\", \"15:15\", 5)"
   ]
  },
  {
   "cell_type": "code",
   "execution_count": 21,
   "id": "432c7199",
   "metadata": {},
   "outputs": [
    {
     "name": "stdout",
     "output_type": "stream",
     "text": [
      "S_1 ATM Straddles:\n",
      "             Date Time    Spot  Strike  Call Price  Put Price  Straddle Price\n",
      "0 2024-01-01 09:20:00  6797.0  6800.0     20565.0    20830.0         41395.0\n",
      "1 2024-01-01 09:25:00  6778.0  6800.0     19045.0    21350.0         40395.0\n",
      "2 2024-01-01 09:30:00  6793.0  6800.0     19985.0    20800.0         40785.0\n",
      "3 2024-01-01 09:35:00  6804.0  6800.0     20520.0    19910.0         40430.0\n",
      "4 2024-01-01 09:40:00  6796.0  6800.0     19780.0    19900.0         39680.0\n"
     ]
    }
   ],
   "source": [
    "print(\"S_1 ATM Straddles:\\n\", S_1_straddles.head())\n",
    "# print(\"S_2 ATM Straddles:\\n\", S_2_straddles.head())"
   ]
  },
  {
   "cell_type": "code",
   "execution_count": null,
   "id": "bf50fa78",
   "metadata": {},
   "outputs": [],
   "source": [
    "import pandas as pd\n",
    "from datetime import datetime\n",
    "\n",
    "def compute_portfolio_pnl(option_dfs, weights, lot_sizes, interval_minutes=5, \n",
    "                           start_time_str=\"09:20\", end_time_str=\"15:15\", \n",
    "                           use_mid_price=True):\n",
    "    timestamps = pd.date_range(\"2024-01-01 \" + start_time_str, \n",
    "                               \"2024-01-01 \" + end_time_str, \n",
    "                               freq=f'{interval_minutes}min')\n",
    "\n",
    "    portfolio_pnl_records = []\n",
    "    initial_costs = []\n",
    "    previous_hedges = [0] * len(option_dfs)\n",
    "    hedge_cashflows = [0] * len(option_dfs)\n",
    "\n",
    "    for i, df in enumerate(option_dfs):\n",
    "        df['Date Time'] = pd.to_datetime(df['Date Time'])\n",
    "\n",
    "    for t in timestamps:\n",
    "        stock_pnls = []\n",
    "\n",
    "        for i, df in enumerate(option_dfs):\n",
    "            weight = weights[i]\n",
    "            lot_size = lot_sizes[i]\n",
    "\n",
    "            df_t = df[df['Date Time'] == t]\n",
    "            if df_t.empty:\n",
    "                stock_pnls.append({'Option PnL': 0, 'Hedge PnL': 0})\n",
    "                continue\n",
    "\n",
    "            spot = df_t['Spot'].iloc[0]\n",
    "            strikes = df_t['Strike'].unique()\n",
    "            atm_strike = min(strikes, key=lambda x: abs(x - spot))\n",
    "\n",
    "            ce = df_t[(df_t['Strike'] == atm_strike) & (df_t['Type'] == 'CE')]\n",
    "            pe = df_t[(df_t['Strike'] == atm_strike) & (df_t['Type'] == 'PE')]\n",
    "\n",
    "            if ce.empty or pe.empty:\n",
    "                stock_pnls.append({'Option PnL': 0, 'Hedge PnL': 0})\n",
    "                continue\n",
    "\n",
    "            if use_mid_price:\n",
    "                ce_price = (ce['BidPrice'].iloc[0] + ce['AskPrice'].iloc[0]) / 2\n",
    "                pe_price = (pe['BidPrice'].iloc[0] + pe['AskPrice'].iloc[0]) / 2\n",
    "            else:\n",
    "                ce_price = ce['BidPrice'].iloc[0]\n",
    "                pe_price = pe['BidPrice'].iloc[0]\n",
    "\n",
    "            delta = ce['Delta'].iloc[0] + pe['Delta'].iloc[0]\n",
    "\n",
    "            if t == timestamps[0]:\n",
    "                # Initial setup\n",
    "                ce_ask = ce['AskPrice'].iloc[0]\n",
    "                pe_ask = pe['AskPrice'].iloc[0]\n",
    "                initial_costs.append((ce_ask + pe_ask) * lot_size)\n",
    "                hedge_value = delta * spot * lot_size\n",
    "                previous_hedges[i] = hedge_value\n",
    "                hedge_cashflows[i] -= hedge_value\n",
    "                stock_pnls.append({'Option PnL': 0, 'Hedge PnL': 0})\n",
    "                continue\n",
    "\n",
    "            current_value = (ce_price + pe_price) * lot_size\n",
    "            option_pnl = current_value - initial_costs[i]\n",
    "\n",
    "            hedge_value = delta * spot * lot_size\n",
    "            hedge_trade = hedge_value - previous_hedges[i]\n",
    "            hedge_cashflows[i] -= hedge_trade\n",
    "            hedge_pnl = hedge_cashflows[i] + hedge_value\n",
    "            previous_hedges[i] = hedge_value\n",
    "\n",
    "            stock_pnls.append({'Option PnL': option_pnl, 'Hedge PnL': hedge_pnl})\n",
    "\n",
    "        total_option_pnl = sum(weights[i] * stock_pnls[i]['Option PnL'] for i in range(len(option_dfs)))\n",
    "        total_hedge_pnl = sum(weights[i] * stock_pnls[i]['Hedge PnL'] for i in range(len(option_dfs)))\n",
    "        total_pnl = total_option_pnl + total_hedge_pnl\n",
    "\n",
    "        portfolio_pnl_records.append({\n",
    "            'Time': t,\n",
    "            'Option PnL': total_option_pnl,\n",
    "            'Hedge PnL': total_hedge_pnl,\n",
    "            'Total PnL': total_pnl\n",
    "        })\n",
    "\n",
    "    return pd.DataFrame(portfolio_pnl_records)\n"
   ]
  },
  {
   "cell_type": "markdown",
   "id": "b938c7f1",
   "metadata": {},
   "source": [
    "Recall the project where we built a delta-hedged ATM straddle portfolio using single stock options. Here's the full context:\n",
    "\n",
    "- We load preprocessed intraday options data from CSV files located at:\n",
    "  {STOCK}/{YYYY}/{YYYY}_new/{STOCK}_{STARTDATE}_{LAST_THURSDAY}_Intraday_Preprocessed.csv\n",
    "  where STARTDATE is a Monday like 20240101, and LAST_THURSDAY is the last Thursday of that month, or of next month if already passed.\n",
    "\n",
    "- The CSV contains CE rows first, followed by PE rows, with timestamp-aligned data.\n",
    "- Relevant columns: 'Date Time', 'Strike', 'Type', 'AskPrice', 'BidPrice', 'Delta', 'Spot', 'Sigma', etc.\n",
    "\n",
    "Strategy:\n",
    "\n",
    "1. Build a portfolio of ATM straddles (1 CE + 1 PE) on multiple stocks.\n",
    "2. Buy both legs at AskPrice (customer side) using lot sizes per stock.\n",
    "3. Hedge delta every h minutes using spot (not futures).\n",
    "4. At each step:\n",
    "   - Find ATM strike using Spot\n",
    "   - Get Delta of CE and PE, sum for total option delta\n",
    "   - Adjust hedge by buying/selling -delta × spot × lot_size\n",
    "   - Track hedge cashflows and position delta\n",
    "5. Use mid-price or bid-price (configurable) to mark straddle value at each step.\n",
    "6. Compute:\n",
    "   - Option PnL = (Mark-to-market - Initial Cost) × lot_size\n",
    "   - Hedge PnL = cashflows + MTM of current hedge\n",
    "   - Portfolio PnL = weighted sum over all stocks\n",
    "\n",
    "Functions already implemented:\n",
    "- last_thursday logic\n",
    "- load CSVs dynamically\n",
    "- extract ATM straddles at each interval\n",
    "- delta hedge simulation\n",
    "- total PnL calculation per interval\n",
    "\n",
    "Future requests may include:\n",
    "- Adding slippage/transaction cost\n",
    "- Multi-day simulation\n",
    "- Export/plot PnL\n"
   ]
  },
  {
   "cell_type": "markdown",
   "id": "9f364c74",
   "metadata": {},
   "source": []
  }
 ],
 "metadata": {
  "kernelspec": {
   "display_name": "Python 3",
   "language": "python",
   "name": "python3"
  },
  "language_info": {
   "codemirror_mode": {
    "name": "ipython",
    "version": 3
   },
   "file_extension": ".py",
   "mimetype": "text/x-python",
   "name": "python",
   "nbconvert_exporter": "python",
   "pygments_lexer": "ipython3",
   "version": "3.8.20"
  }
 },
 "nbformat": 4,
 "nbformat_minor": 5
}
