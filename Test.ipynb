{
 "cells": [
  {
   "attachments": {},
   "cell_type": "markdown",
   "id": "5ab4c965",
   "metadata": {},
   "source": [
    "# Import Statements"
   ]
  },
  {
   "cell_type": "code",
   "execution_count": 1,
   "id": "3ed63f15",
   "metadata": {},
   "outputs": [],
   "source": [
    "import numpy as np\n",
    "import pandas as pd\n",
    "from modules._backtest import Backtest\n",
    "\n",
    "backtest = Backtest(rows=7)\n",
    "\n",
    "vals = [(pd.to_datetime(\"2021-03-10 09:16:00\"), 1000000, 0, 1000000),\n",
    "        (pd.to_datetime(\"2021-03-10 09:17:00\"), 999981.60, 0, 999511.60),\n",
    "        (pd.to_datetime(\"2021-03-10 09:18:00\"), 1300000, 300000, 1300000),\n",
    "        (pd.to_datetime(\"2021-03-10 09:19:00\"), 1500000, 500000, 1500000),\n",
    "        (pd.to_datetime(\"2021-03-11 09:16:00\"), 1500000, 500000, 1500000),\n",
    "        (pd.to_datetime(\"2021-03-11 09:17:00\"), 1700000, 700000, 1700000),\n",
    "        (pd.to_datetime(\"2021-03-12 09:16:00\"), 1000000, -200000, 1000000)]"
   ]
  },
  {
   "cell_type": "code",
   "execution_count": 2,
   "id": "ca87f44a",
   "metadata": {},
   "outputs": [],
   "source": [
    "for val in vals:\n",
    "    backtest.update_backtest(val)"
   ]
  },
  {
   "cell_type": "code",
   "execution_count": 3,
   "id": "4162a7d5",
   "metadata": {},
   "outputs": [],
   "source": [
    "backtest.finalize_array_to_df()"
   ]
  },
  {
   "cell_type": "code",
   "execution_count": 4,
   "id": "492027f7",
   "metadata": {},
   "outputs": [
    {
     "data": {
      "text/html": [
       "<div>\n",
       "<style scoped>\n",
       "    .dataframe tbody tr th:only-of-type {\n",
       "        vertical-align: middle;\n",
       "    }\n",
       "\n",
       "    .dataframe tbody tr th {\n",
       "        vertical-align: top;\n",
       "    }\n",
       "\n",
       "    .dataframe thead th {\n",
       "        text-align: right;\n",
       "    }\n",
       "</style>\n",
       "<table border=\"1\" class=\"dataframe\">\n",
       "  <thead>\n",
       "    <tr style=\"text-align: right;\">\n",
       "      <th></th>\n",
       "      <th>Timestamp</th>\n",
       "      <th>Value</th>\n",
       "      <th>Realized_PnL</th>\n",
       "      <th>MTM</th>\n",
       "    </tr>\n",
       "  </thead>\n",
       "  <tbody>\n",
       "    <tr>\n",
       "      <th>0</th>\n",
       "      <td>2021-03-10 09:16:00</td>\n",
       "      <td>1000000.000</td>\n",
       "      <td>0.0</td>\n",
       "      <td>1000000.000</td>\n",
       "    </tr>\n",
       "    <tr>\n",
       "      <th>1</th>\n",
       "      <td>2021-03-10 09:17:00</td>\n",
       "      <td>999981.625</td>\n",
       "      <td>0.0</td>\n",
       "      <td>999511.625</td>\n",
       "    </tr>\n",
       "    <tr>\n",
       "      <th>2</th>\n",
       "      <td>2021-03-10 09:18:00</td>\n",
       "      <td>1300000.000</td>\n",
       "      <td>300000.0</td>\n",
       "      <td>1300000.000</td>\n",
       "    </tr>\n",
       "    <tr>\n",
       "      <th>3</th>\n",
       "      <td>2021-03-10 09:19:00</td>\n",
       "      <td>1500000.000</td>\n",
       "      <td>500000.0</td>\n",
       "      <td>1500000.000</td>\n",
       "    </tr>\n",
       "    <tr>\n",
       "      <th>4</th>\n",
       "      <td>2021-03-11 09:16:00</td>\n",
       "      <td>1500000.000</td>\n",
       "      <td>500000.0</td>\n",
       "      <td>1500000.000</td>\n",
       "    </tr>\n",
       "    <tr>\n",
       "      <th>5</th>\n",
       "      <td>2021-03-11 09:17:00</td>\n",
       "      <td>1700000.000</td>\n",
       "      <td>700000.0</td>\n",
       "      <td>1700000.000</td>\n",
       "    </tr>\n",
       "    <tr>\n",
       "      <th>6</th>\n",
       "      <td>2021-03-12 09:16:00</td>\n",
       "      <td>1000000.000</td>\n",
       "      <td>-200000.0</td>\n",
       "      <td>1000000.000</td>\n",
       "    </tr>\n",
       "  </tbody>\n",
       "</table>\n",
       "</div>"
      ],
      "text/plain": [
       "            Timestamp        Value  Realized_PnL          MTM\n",
       "0 2021-03-10 09:16:00  1000000.000           0.0  1000000.000\n",
       "1 2021-03-10 09:17:00   999981.625           0.0   999511.625\n",
       "2 2021-03-10 09:18:00  1300000.000      300000.0  1300000.000\n",
       "3 2021-03-10 09:19:00  1500000.000      500000.0  1500000.000\n",
       "4 2021-03-11 09:16:00  1500000.000      500000.0  1500000.000\n",
       "5 2021-03-11 09:17:00  1700000.000      700000.0  1700000.000\n",
       "6 2021-03-12 09:16:00  1000000.000     -200000.0  1000000.000"
      ]
     },
     "execution_count": 4,
     "metadata": {},
     "output_type": "execute_result"
    }
   ],
   "source": [
    "backtest.getBacktestdf()"
   ]
  },
  {
   "cell_type": "code",
   "execution_count": 5,
   "id": "e2d223b9",
   "metadata": {},
   "outputs": [
    {
     "data": {
      "text/html": [
       "<div>\n",
       "<style scoped>\n",
       "    .dataframe tbody tr th:only-of-type {\n",
       "        vertical-align: middle;\n",
       "    }\n",
       "\n",
       "    .dataframe tbody tr th {\n",
       "        vertical-align: top;\n",
       "    }\n",
       "\n",
       "    .dataframe thead th {\n",
       "        text-align: right;\n",
       "    }\n",
       "</style>\n",
       "<table border=\"1\" class=\"dataframe\">\n",
       "  <thead>\n",
       "    <tr style=\"text-align: right;\">\n",
       "      <th></th>\n",
       "      <th>Value</th>\n",
       "      <th>Realized_PnL</th>\n",
       "      <th>MTM</th>\n",
       "    </tr>\n",
       "    <tr>\n",
       "      <th>Timestamp</th>\n",
       "      <th></th>\n",
       "      <th></th>\n",
       "      <th></th>\n",
       "    </tr>\n",
       "  </thead>\n",
       "  <tbody>\n",
       "    <tr>\n",
       "      <th>2021-03-10</th>\n",
       "      <td>1500000.0</td>\n",
       "      <td>500000.0</td>\n",
       "      <td>1500000.0</td>\n",
       "    </tr>\n",
       "    <tr>\n",
       "      <th>2021-03-11</th>\n",
       "      <td>1700000.0</td>\n",
       "      <td>700000.0</td>\n",
       "      <td>1700000.0</td>\n",
       "    </tr>\n",
       "    <tr>\n",
       "      <th>2021-03-12</th>\n",
       "      <td>1000000.0</td>\n",
       "      <td>-200000.0</td>\n",
       "      <td>1000000.0</td>\n",
       "    </tr>\n",
       "  </tbody>\n",
       "</table>\n",
       "</div>"
      ],
      "text/plain": [
       "                Value  Realized_PnL        MTM\n",
       "Timestamp                                     \n",
       "2021-03-10  1500000.0      500000.0  1500000.0\n",
       "2021-03-11  1700000.0      700000.0  1700000.0\n",
       "2021-03-12  1000000.0     -200000.0  1000000.0"
      ]
     },
     "execution_count": 5,
     "metadata": {},
     "output_type": "execute_result"
    }
   ],
   "source": [
    "backtest.resample_backtest_df(freq=\"D\")"
   ]
  },
  {
   "cell_type": "code",
   "execution_count": 6,
   "id": "1a790c6a",
   "metadata": {},
   "outputs": [
    {
     "data": {
      "text/html": [
       "<style type=\"text/css\">\n",
       "</style>\n",
       "<table id=\"T_7d2e0\">\n",
       "  <caption><b></b></caption>\n",
       "  <thead>\n",
       "    <tr>\n",
       "      <th class=\"blank level0\" >&nbsp;</th>\n",
       "      <th id=\"T_7d2e0_level0_col0\" class=\"col_heading level0 col0\" ></th>\n",
       "      <th id=\"T_7d2e0_level0_col1\" class=\"col_heading level0 col1\" >Meta Data</th>\n",
       "      <th id=\"T_7d2e0_level0_col2\" class=\"col_heading level0 col2\" ></th>\n",
       "      <th id=\"T_7d2e0_level0_col3\" class=\"col_heading level0 col3\" >Summary</th>\n",
       "      <th id=\"T_7d2e0_level0_col4\" class=\"col_heading level0 col4\" ></th>\n",
       "      <th id=\"T_7d2e0_level0_col5\" class=\"col_heading level0 col5\" >Statistics</th>\n",
       "    </tr>\n",
       "  </thead>\n",
       "  <tbody>\n",
       "    <tr>\n",
       "      <th id=\"T_7d2e0_level0_row0\" class=\"row_heading level0 row0\" >0</th>\n",
       "      <td id=\"T_7d2e0_row0_col0\" class=\"data row0 col0\" >Start Date</td>\n",
       "      <td id=\"T_7d2e0_row0_col1\" class=\"data row0 col1\" >2021-03-10 00:00:00</td>\n",
       "      <td id=\"T_7d2e0_row0_col2\" class=\"data row0 col2\" >Annual Return</td>\n",
       "      <td id=\"T_7d2e0_row0_col3\" class=\"data row0 col3\" >-4200.0%</td>\n",
       "      <td id=\"T_7d2e0_row0_col4\" class=\"data row0 col4\" >Sharpe Ratio</td>\n",
       "      <td id=\"T_7d2e0_row0_col5\" class=\"data row0 col5\" >-9.71</td>\n",
       "    </tr>\n",
       "    <tr>\n",
       "      <th id=\"T_7d2e0_level0_row1\" class=\"row_heading level0 row1\" >1</th>\n",
       "      <td id=\"T_7d2e0_row1_col0\" class=\"data row1 col0\" >End Date</td>\n",
       "      <td id=\"T_7d2e0_row1_col1\" class=\"data row1 col1\" >2021-03-12 00:00:00</td>\n",
       "      <td id=\"T_7d2e0_row1_col2\" class=\"data row1 col2\" >Annual Volatility</td>\n",
       "      <td id=\"T_7d2e0_row1_col3\" class=\"data row1 col3\" >432.66%</td>\n",
       "      <td id=\"T_7d2e0_row1_col4\" class=\"data row1 col4\" >Kurtosis</td>\n",
       "      <td id=\"T_7d2e0_row1_col5\" class=\"data row1 col5\" >nan</td>\n",
       "    </tr>\n",
       "    <tr>\n",
       "      <th id=\"T_7d2e0_level0_row2\" class=\"row_heading level0 row2\" >2</th>\n",
       "      <td id=\"T_7d2e0_row2_col0\" class=\"data row2 col0\" >Time Period (in Day)</td>\n",
       "      <td id=\"T_7d2e0_row2_col1\" class=\"data row2 col1\" >2</td>\n",
       "      <td id=\"T_7d2e0_row2_col2\" class=\"data row2 col2\" >CAGR</td>\n",
       "      <td id=\"T_7d2e0_row2_col3\" class=\"data row2 col3\" >-100.0%</td>\n",
       "      <td id=\"T_7d2e0_row2_col4\" class=\"data row2 col4\" >Information Ratio</td>\n",
       "      <td id=\"T_7d2e0_row2_col5\" class=\"data row2 col5\" >0</td>\n",
       "    </tr>\n",
       "    <tr>\n",
       "      <th id=\"T_7d2e0_level0_row3\" class=\"row_heading level0 row3\" >3</th>\n",
       "      <td id=\"T_7d2e0_row3_col0\" class=\"data row3 col0\" >Strategy</td>\n",
       "      <td id=\"T_7d2e0_row3_col1\" class=\"data row3 col1\" >None</td>\n",
       "      <td id=\"T_7d2e0_row3_col2\" class=\"data row3 col2\" >Max. Drawdown</td>\n",
       "      <td id=\"T_7d2e0_row3_col3\" class=\"data row3 col3\" >-46.67%</td>\n",
       "      <td id=\"T_7d2e0_row3_col4\" class=\"data row3 col4\" >Turnover</td>\n",
       "      <td id=\"T_7d2e0_row3_col5\" class=\"data row3 col5\" >0.0%</td>\n",
       "    </tr>\n",
       "  </tbody>\n",
       "</table>\n"
      ],
      "text/plain": [
       "<pandas.io.formats.style.Styler at 0x7fbba003c130>"
      ]
     },
     "execution_count": 6,
     "metadata": {},
     "output_type": "execute_result"
    }
   ],
   "source": [
    "backtest.summary()"
   ]
  },
  {
   "attachments": {},
   "cell_type": "markdown",
   "id": "a7f9225f",
   "metadata": {},
   "source": [
    "# Blotter Requirements"
   ]
  },
  {
   "attachments": {},
   "cell_type": "markdown",
   "id": "4ad22e13",
   "metadata": {},
   "source": [
    "- Market side (ASK OR BID)\n",
    "- Type of Trade (Unwind, Hedge or Strategy)\n",
    "- Instrument Id (Already present)\n",
    "- time (time of trade - Already present)\n",
    "- position (Already present)\n",
    "- Buy/Sell (can be derived from position)\n",
    "- Volume Traded (can be derived from position)"
   ]
  },
  {
   "cell_type": "code",
   "execution_count": null,
   "id": "f9945c81",
   "metadata": {},
   "outputs": [],
   "source": []
  },
  {
   "cell_type": "code",
   "execution_count": null,
   "id": "1641f9c9",
   "metadata": {},
   "outputs": [],
   "source": []
  }
 ],
 "metadata": {
  "kernelspec": {
   "display_name": "base",
   "language": "python",
   "name": "python3"
  },
  "language_info": {
   "codemirror_mode": {
    "name": "ipython",
    "version": 3
   },
   "file_extension": ".py",
   "mimetype": "text/x-python",
   "name": "python",
   "nbconvert_exporter": "python",
   "pygments_lexer": "ipython3",
   "version": "3.9.13"
  }
 },
 "nbformat": 4,
 "nbformat_minor": 5
}
